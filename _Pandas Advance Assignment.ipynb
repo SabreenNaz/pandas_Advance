{
 "cells": [
  {
   "cell_type": "markdown",
   "id": "847adbb7-db76-4977-981e-bb4bb638709c",
   "metadata": {},
   "source": [
    "Q1. List any five functions of the pandas library with execution."
   ]
  },
  {
   "cell_type": "code",
   "execution_count": 4,
   "id": "1dbda8fc-8a4a-447f-ad95-a5be9ad0ea5a",
   "metadata": {},
   "outputs": [],
   "source": [
    "#Answer\n",
    "\n",
    "# The  five functions commonly used in the pandas library along with their execution :\n",
    "\n",
    "# 1) read_csv(): This function is used to read data from a CSV file and create a DataFrame.\n",
    "\n",
    "import pandas as pd\n",
    "\n",
    "# Read a CSV file into a DataFrame\n",
    "\n",
    "df = pd.read_csv('demo.csv')\n",
    "\n"
   ]
  },
  {
   "cell_type": "code",
   "execution_count": 5,
   "id": "9bcebad7-2d5e-4c21-86d3-3e28fb6695cb",
   "metadata": {},
   "outputs": [
    {
     "data": {
      "text/html": [
       "<div>\n",
       "<style scoped>\n",
       "    .dataframe tbody tr th:only-of-type {\n",
       "        vertical-align: middle;\n",
       "    }\n",
       "\n",
       "    .dataframe tbody tr th {\n",
       "        vertical-align: top;\n",
       "    }\n",
       "\n",
       "    .dataframe thead th {\n",
       "        text-align: right;\n",
       "    }\n",
       "</style>\n",
       "<table border=\"1\" class=\"dataframe\">\n",
       "  <thead>\n",
       "    <tr style=\"text-align: right;\">\n",
       "      <th></th>\n",
       "      <th>Index</th>\n",
       "      <th>Organization Id</th>\n",
       "      <th>Name</th>\n",
       "      <th>Website</th>\n",
       "      <th>Country</th>\n",
       "      <th>Description</th>\n",
       "      <th>Founded</th>\n",
       "      <th>Industry</th>\n",
       "      <th>Number of employees</th>\n",
       "    </tr>\n",
       "  </thead>\n",
       "  <tbody>\n",
       "    <tr>\n",
       "      <th>0</th>\n",
       "      <td>1</td>\n",
       "      <td>E84A904909dF528</td>\n",
       "      <td>Liu-Hoover</td>\n",
       "      <td>http://www.day-hartman.org/</td>\n",
       "      <td>Western Sahara</td>\n",
       "      <td>Ergonomic zero administration knowledge user</td>\n",
       "      <td>1980</td>\n",
       "      <td>Online Publishing</td>\n",
       "      <td>6852</td>\n",
       "    </tr>\n",
       "    <tr>\n",
       "      <th>1</th>\n",
       "      <td>2</td>\n",
       "      <td>AAC4f9aBF86EAeF</td>\n",
       "      <td>Orr-Armstrong</td>\n",
       "      <td>https://www.chapman.net/</td>\n",
       "      <td>Algeria</td>\n",
       "      <td>Ergonomic radical budgetary management</td>\n",
       "      <td>1970</td>\n",
       "      <td>Import / Export</td>\n",
       "      <td>7994</td>\n",
       "    </tr>\n",
       "    <tr>\n",
       "      <th>2</th>\n",
       "      <td>3</td>\n",
       "      <td>ad2eb3C8C24DB87</td>\n",
       "      <td>Gill-Lamb</td>\n",
       "      <td>http://lin.com/</td>\n",
       "      <td>Cote d'Ivoire</td>\n",
       "      <td>Programmable intermediate conglomeration</td>\n",
       "      <td>2005</td>\n",
       "      <td>Apparel / Fashion</td>\n",
       "      <td>5105</td>\n",
       "    </tr>\n",
       "    <tr>\n",
       "      <th>3</th>\n",
       "      <td>4</td>\n",
       "      <td>D76BB12E5eE165B</td>\n",
       "      <td>Bauer-Weiss</td>\n",
       "      <td>https://gillespie-stout.com/</td>\n",
       "      <td>United States of America</td>\n",
       "      <td>Synergistic maximized definition</td>\n",
       "      <td>2015</td>\n",
       "      <td>Dairy</td>\n",
       "      <td>9069</td>\n",
       "    </tr>\n",
       "    <tr>\n",
       "      <th>4</th>\n",
       "      <td>5</td>\n",
       "      <td>2F31EddF2Db9aAE</td>\n",
       "      <td>Love-Palmer</td>\n",
       "      <td>https://kramer.com/</td>\n",
       "      <td>Denmark</td>\n",
       "      <td>Optimized optimizing moderator</td>\n",
       "      <td>2010</td>\n",
       "      <td>Management Consulting</td>\n",
       "      <td>6991</td>\n",
       "    </tr>\n",
       "  </tbody>\n",
       "</table>\n",
       "</div>"
      ],
      "text/plain": [
       "   Index  Organization Id           Name                       Website  \\\n",
       "0      1  E84A904909dF528     Liu-Hoover   http://www.day-hartman.org/   \n",
       "1      2  AAC4f9aBF86EAeF  Orr-Armstrong      https://www.chapman.net/   \n",
       "2      3  ad2eb3C8C24DB87      Gill-Lamb               http://lin.com/   \n",
       "3      4  D76BB12E5eE165B    Bauer-Weiss  https://gillespie-stout.com/   \n",
       "4      5  2F31EddF2Db9aAE    Love-Palmer           https://kramer.com/   \n",
       "\n",
       "                    Country                                   Description  \\\n",
       "0            Western Sahara  Ergonomic zero administration knowledge user   \n",
       "1                   Algeria        Ergonomic radical budgetary management   \n",
       "2             Cote d'Ivoire      Programmable intermediate conglomeration   \n",
       "3  United States of America              Synergistic maximized definition   \n",
       "4                   Denmark                Optimized optimizing moderator   \n",
       "\n",
       "   Founded               Industry  Number of employees  \n",
       "0     1980      Online Publishing                 6852  \n",
       "1     1970        Import / Export                 7994  \n",
       "2     2005      Apparel / Fashion                 5105  \n",
       "3     2015                  Dairy                 9069  \n",
       "4     2010  Management Consulting                 6991  "
      ]
     },
     "execution_count": 5,
     "metadata": {},
     "output_type": "execute_result"
    }
   ],
   "source": [
    "# 2) 'head()': It is used to display the first few rows of a DataFrame.\n",
    "\n",
    "# Display the first 5 rows of the DataFrame\n",
    "df.head()"
   ]
  },
  {
   "cell_type": "code",
   "execution_count": 6,
   "id": "17740860-3915-4515-8b06-b6384b705127",
   "metadata": {},
   "outputs": [
    {
     "name": "stdout",
     "output_type": "stream",
     "text": [
      "<class 'pandas.core.frame.DataFrame'>\n",
      "RangeIndex: 1000 entries, 0 to 999\n",
      "Data columns (total 9 columns):\n",
      " #   Column               Non-Null Count  Dtype \n",
      "---  ------               --------------  ----- \n",
      " 0   Index                1000 non-null   int64 \n",
      " 1   Organization Id      1000 non-null   object\n",
      " 2   Name                 1000 non-null   object\n",
      " 3   Website              1000 non-null   object\n",
      " 4   Country              1000 non-null   object\n",
      " 5   Description          1000 non-null   object\n",
      " 6   Founded              1000 non-null   int64 \n",
      " 7   Industry             1000 non-null   object\n",
      " 8   Number of employees  1000 non-null   int64 \n",
      "dtypes: int64(3), object(6)\n",
      "memory usage: 70.4+ KB\n"
     ]
    }
   ],
   "source": [
    "# 3) info(): This function provides information about the DataFrame, including the data types and non-null counts of each column.\n",
    "\n",
    "# Display information about the DataFrame\n",
    "\n",
    "df.info()"
   ]
  },
  {
   "cell_type": "code",
   "execution_count": 10,
   "id": "c1f69375-4efa-468e-a438-bd9b1a434367",
   "metadata": {},
   "outputs": [],
   "source": [
    "# 4) to_csv(): This function is used to write a DataFrame to a CSV file.\n",
    "\n",
    "\n",
    "# Write the DataFrame to a CSV file\n",
    "\n",
    "df.to_csv('output.csv', index=False)"
   ]
  },
  {
   "cell_type": "code",
   "execution_count": 16,
   "id": "d717b293-625e-437c-a637-74bf926b3840",
   "metadata": {},
   "outputs": [
    {
     "data": {
      "text/html": [
       "<div>\n",
       "<style scoped>\n",
       "    .dataframe tbody tr th:only-of-type {\n",
       "        vertical-align: middle;\n",
       "    }\n",
       "\n",
       "    .dataframe tbody tr th {\n",
       "        vertical-align: top;\n",
       "    }\n",
       "\n",
       "    .dataframe thead th {\n",
       "        text-align: right;\n",
       "    }\n",
       "</style>\n",
       "<table border=\"1\" class=\"dataframe\">\n",
       "  <thead>\n",
       "    <tr style=\"text-align: right;\">\n",
       "      <th></th>\n",
       "      <th>Index</th>\n",
       "      <th>Organization Id</th>\n",
       "      <th>Name</th>\n",
       "      <th>Website</th>\n",
       "      <th>Description</th>\n",
       "      <th>Founded</th>\n",
       "      <th>Number of employees</th>\n",
       "    </tr>\n",
       "  </thead>\n",
       "  <tbody>\n",
       "    <tr>\n",
       "      <th>0</th>\n",
       "      <td>1</td>\n",
       "      <td>E84A904909dF528</td>\n",
       "      <td>Liu-Hoover</td>\n",
       "      <td>http://www.day-hartman.org/</td>\n",
       "      <td>Ergonomic zero administration knowledge user</td>\n",
       "      <td>1980</td>\n",
       "      <td>6852</td>\n",
       "    </tr>\n",
       "    <tr>\n",
       "      <th>1</th>\n",
       "      <td>2</td>\n",
       "      <td>AAC4f9aBF86EAeF</td>\n",
       "      <td>Orr-Armstrong</td>\n",
       "      <td>https://www.chapman.net/</td>\n",
       "      <td>Ergonomic radical budgetary management</td>\n",
       "      <td>1970</td>\n",
       "      <td>7994</td>\n",
       "    </tr>\n",
       "    <tr>\n",
       "      <th>2</th>\n",
       "      <td>3</td>\n",
       "      <td>ad2eb3C8C24DB87</td>\n",
       "      <td>Gill-Lamb</td>\n",
       "      <td>http://lin.com/</td>\n",
       "      <td>Programmable intermediate conglomeration</td>\n",
       "      <td>2005</td>\n",
       "      <td>5105</td>\n",
       "    </tr>\n",
       "    <tr>\n",
       "      <th>3</th>\n",
       "      <td>4</td>\n",
       "      <td>D76BB12E5eE165B</td>\n",
       "      <td>Bauer-Weiss</td>\n",
       "      <td>https://gillespie-stout.com/</td>\n",
       "      <td>Synergistic maximized definition</td>\n",
       "      <td>2015</td>\n",
       "      <td>9069</td>\n",
       "    </tr>\n",
       "    <tr>\n",
       "      <th>4</th>\n",
       "      <td>5</td>\n",
       "      <td>2F31EddF2Db9aAE</td>\n",
       "      <td>Love-Palmer</td>\n",
       "      <td>https://kramer.com/</td>\n",
       "      <td>Optimized optimizing moderator</td>\n",
       "      <td>2010</td>\n",
       "      <td>6991</td>\n",
       "    </tr>\n",
       "  </tbody>\n",
       "</table>\n",
       "</div>"
      ],
      "text/plain": [
       "   Index  Organization Id           Name                       Website  \\\n",
       "0      1  E84A904909dF528     Liu-Hoover   http://www.day-hartman.org/   \n",
       "1      2  AAC4f9aBF86EAeF  Orr-Armstrong      https://www.chapman.net/   \n",
       "2      3  ad2eb3C8C24DB87      Gill-Lamb               http://lin.com/   \n",
       "3      4  D76BB12E5eE165B    Bauer-Weiss  https://gillespie-stout.com/   \n",
       "4      5  2F31EddF2Db9aAE    Love-Palmer           https://kramer.com/   \n",
       "\n",
       "                                    Description  Founded  Number of employees  \n",
       "0  Ergonomic zero administration knowledge user     1980                 6852  \n",
       "1        Ergonomic radical budgetary management     1970                 7994  \n",
       "2      Programmable intermediate conglomeration     2005                 5105  \n",
       "3              Synergistic maximized definition     2015                 9069  \n",
       "4                Optimized optimizing moderator     2010                 6991  "
      ]
     },
     "execution_count": 16,
     "metadata": {},
     "output_type": "execute_result"
    }
   ],
   "source": [
    "# 5) drop(): It is used to remove columns or rows from a DataFrame.\n",
    "\n",
    "# Drop the 'Column_to_drop' column from the DataFrame\n",
    "\n",
    "df = df.drop(\"Country\", axis=1)\n",
    "df.head()"
   ]
  },
  {
   "cell_type": "markdown",
   "id": "d768ab2e-88b4-43b3-a1dd-6c72edbb4923",
   "metadata": {},
   "source": [
    "                      -------------------------------------------------------------------"
   ]
  },
  {
   "cell_type": "markdown",
   "id": "c1080dff-d62c-4b32-a4ef-16b9967000f2",
   "metadata": {},
   "source": [
    "Q2. Given a Pandas DataFrame df with columns 'A', 'B', and 'C', write a Python function to re-index the\n",
    "DataFrame with a new index that starts from 1 and increments by 2 for each row.\n",
    "\n"
   ]
  },
  {
   "cell_type": "code",
   "execution_count": 18,
   "id": "83aa704a-fa4b-4e0c-9a2f-a27f0a2527f2",
   "metadata": {},
   "outputs": [
    {
     "name": "stdout",
     "output_type": "stream",
     "text": [
      "    A   B    C\n",
      "1  10  50   90\n",
      "3  20  60  100\n",
      "5  30  70  110\n",
      "7  40  80  120\n"
     ]
    }
   ],
   "source": [
    "#Answer\n",
    "import pandas as pd\n",
    "\n",
    "def reindex_with_custom_increment(df):\n",
    "    # Reset the index, starting from 1 and incrementing by 2\n",
    "    df.reset_index(drop=True, inplace=True)\n",
    "    df.index = df.index * 2 + 1\n",
    "    return df\n",
    "\n",
    "# Example DataFrame with columns 'A', 'B', and 'C'\n",
    "data = {'A': [10, 20, 30, 40],\n",
    "        'B': [50, 60, 70, 80],\n",
    "        'C': [90, 100, 110, 120]}\n",
    "df = pd.DataFrame(data)\n",
    "\n",
    "# Re-index the DataFrame with a new index\n",
    "new_df = reindex_with_custom_increment(df)\n",
    "\n",
    "# Print the new DataFrame\n",
    "print(new_df)\n"
   ]
  },
  {
   "cell_type": "markdown",
   "id": "a4c55cc3-e894-4f46-9d21-61ac93dda89b",
   "metadata": {},
   "source": [
    "In this example, the reindex_with_custom_increment function takes a DataFrame df as input and resets the index starting from 1 and incrementing by 2 for each row. The reset_index() method with drop=True removes the old index, and then the index is adjusted using df.index * 2 + 1."
   ]
  },
  {
   "cell_type": "markdown",
   "id": "61e7fe27-1fe2-442b-9990-ddf2b4958328",
   "metadata": {},
   "source": [
    "                      -------------------------------------------------------------------"
   ]
  },
  {
   "cell_type": "markdown",
   "id": "b77b7db8-af77-4e59-9c13-d43eea24af06",
   "metadata": {},
   "source": [
    "Q3. You have a Pandas DataFrame df with a column named 'Values'. Write a Python function that\n",
    "iterates over the DataFrame and calculates the sum of the first three values in the 'Values' column. The\n",
    "function should print the sum to the console.\n",
    "\n",
    "\n",
    "For example, if the 'Values' column of df contains the values [10, 20, 30, 40, 50], your function should\n",
    "calculate and print the sum of the first three values, which is 60."
   ]
  },
  {
   "cell_type": "code",
   "execution_count": 22,
   "id": "c4a31648-0450-4cfb-939c-2fdc5b78a13c",
   "metadata": {},
   "outputs": [
    {
     "name": "stdout",
     "output_type": "stream",
     "text": [
      "Sum of the first three values: 60\n"
     ]
    }
   ],
   "source": [
    "#Answer\n",
    "import pandas as pd\n",
    "\n",
    "df = pd.DataFrame({'Values': [10, 20, 30, 40, 50]})\n",
    "\n",
    "# Calculate the sum of the first three values in the 'Values' column\n",
    "\n",
    "def calculate_sum_of_first_three(df):\n",
    "    if 'Values' in df.columns:\n",
    "        first_three_sum = df['Values'].iloc[:3].sum()\n",
    "        print(\"Sum of the first three values:\", first_three_sum)\n",
    "    else:\n",
    "        print(\"Column 'Values' not found in the DataFrame.\")\n",
    "\n",
    "calculate_sum_of_first_three(df)\n",
    "\n"
   ]
  },
  {
   "cell_type": "markdown",
   "id": "ab68aa9b-06e7-48ba-9454-ab662e3c7fc2",
   "metadata": {},
   "source": [
    "                      -------------------------------------------------------------------"
   ]
  },
  {
   "cell_type": "markdown",
   "id": "603d8454-0f91-4c58-9047-9330eaa2c9b0",
   "metadata": {},
   "source": [
    "Q4. Given a Pandas DataFrame df with a column 'Text', write a Python function to create a new column\n",
    "'Word_Count' that contains the number of words in each row of the 'Text' column."
   ]
  },
  {
   "cell_type": "code",
   "execution_count": 23,
   "id": "d01c6029-65e5-4fe4-aa1a-cd5c9feb57f6",
   "metadata": {},
   "outputs": [
    {
     "name": "stdout",
     "output_type": "stream",
     "text": [
      "                        Text  Word_Count\n",
      "0     This is a sample text.           5\n",
      "1      Count the words here.           4\n",
      "2  Pandas DataFrame example.           3\n"
     ]
    }
   ],
   "source": [
    "#Answer\n",
    "\n",
    "import pandas as pd\n",
    "\n",
    "# Sample DataFrame\n",
    "data = {'Text': [\"This is a sample text.\", \"Count the words here.\", \"Pandas DataFrame example.\"]}\n",
    "df = pd.DataFrame(data)\n",
    "\n",
    "# Function to count words in a given text\n",
    "def count_words(text):\n",
    "    # Split the text by spaces and count the number of resulting words\n",
    "    words = text.split()\n",
    "    return len(words)\n",
    "\n",
    "# Create a new column 'Word_Count' using the count_words function\n",
    "df['Word_Count'] = df['Text'].apply(lambda x: count_words(x))\n",
    "\n",
    "# Print the DataFrame with the 'Word_Count' column\n",
    "print(df)\n"
   ]
  },
  {
   "cell_type": "markdown",
   "id": "cefbaf43-6ff9-49ad-b189-2a56c6f188e8",
   "metadata": {},
   "source": [
    "                      -------------------------------------------------------------------"
   ]
  },
  {
   "cell_type": "markdown",
   "id": "d83dbde1-120b-428e-9820-73b17987c381",
   "metadata": {},
   "source": [
    "Q5. How are DataFrame.size() and DataFrame.shape() different?"
   ]
  },
  {
   "cell_type": "markdown",
   "id": "9ec0bf50-67ac-4fc2-acdb-d9527096a22b",
   "metadata": {},
   "source": [
    "#Answer\n",
    "\n",
    "\n",
    "DataFrame.size and DataFrame.shape are both attributes of a Pandas DataFrame, but they serve different purposes and provide different information:\n",
    "\n",
    "1) DataFrame.size:\n",
    "\n",
    "* DataFrame.size returns the total number of elements in the DataFrame.\n",
    "* It is calculated as the product of the number of rows and the number of columns.\n",
    "* It represents the total number of cells (data points) in the DataFrame.\n",
    "\n",
    "Example:_____\n",
    "\n"
   ]
  },
  {
   "cell_type": "code",
   "execution_count": 4,
   "id": "a2c71438-86df-45a1-b229-5904c3e69dda",
   "metadata": {},
   "outputs": [
    {
     "name": "stdout",
     "output_type": "stream",
     "text": [
      "6\n"
     ]
    }
   ],
   "source": [
    "\n",
    "import pandas as pd\n",
    "\n",
    "data = {'A': [1, 2, 3], 'B': [4, 5, 6]}\n",
    "df = pd.DataFrame(data)\n",
    "size = df.size # This will be 6 (3 rows x 2 columns)\n",
    "print(size)"
   ]
  },
  {
   "cell_type": "markdown",
   "id": "beba58c4-571c-4732-9e20-b3d710d04d9b",
   "metadata": {},
   "source": [
    "2) DataFrame.shape:\n",
    "\n",
    "* DataFrame.shape is a tuple that returns the dimensions of the DataFrame, specifically the number of rows and columns.\n",
    "* It provides information about the structure of the DataFrame, not the total number of elements.\n",
    "* The shape attribute is often used to determine the dimensions of the DataFrame.\n",
    "\n",
    "*Example:___\n"
   ]
  },
  {
   "cell_type": "code",
   "execution_count": 5,
   "id": "8bbfbfea-ffb9-4cf2-85fe-5f665b0e4733",
   "metadata": {},
   "outputs": [
    {
     "name": "stdout",
     "output_type": "stream",
     "text": [
      "(3, 2)\n"
     ]
    }
   ],
   "source": [
    "\n",
    "import pandas as pd\n",
    "\n",
    "data = {'A': [1, 2, 3], 'B': [4, 5, 6]}\n",
    "df = pd.DataFrame(data)\n",
    "shape = df.shape  # This will be (3, 2) indicating 3 rows and 2 columns\n",
    "print( shape)\n"
   ]
  },
  {
   "cell_type": "markdown",
   "id": "94f1eb96-c6db-4eb7-9fb7-b6a01ff9daa5",
   "metadata": {},
   "source": [
    "In summary, DataFrame.size gives you the total number of elements (data points) in the DataFrame, while DataFrame.shape provides information about the number of rows and columns, helping you understand the structure of the DataFrame. The two attributes serve different purposes and should be used accordingly based on the information you need."
   ]
  },
  {
   "cell_type": "markdown",
   "id": "4bd56842-96dd-463e-9a53-abe5f7acc2c6",
   "metadata": {},
   "source": [
    "                       -------------------------------------------------------------------"
   ]
  },
  {
   "cell_type": "markdown",
   "id": "e5cfcd8a-e250-42a7-8424-c3a5f8fe7a69",
   "metadata": {},
   "source": [
    "Q6. Which function of pandas do we use to read an excel file?"
   ]
  },
  {
   "cell_type": "code",
   "execution_count": 9,
   "id": "e56c2925-c023-4f09-be5d-2b3737280d6d",
   "metadata": {},
   "outputs": [
    {
     "data": {
      "text/html": [
       "<div>\n",
       "<style scoped>\n",
       "    .dataframe tbody tr th:only-of-type {\n",
       "        vertical-align: middle;\n",
       "    }\n",
       "\n",
       "    .dataframe tbody tr th {\n",
       "        vertical-align: top;\n",
       "    }\n",
       "\n",
       "    .dataframe thead th {\n",
       "        text-align: right;\n",
       "    }\n",
       "</style>\n",
       "<table border=\"1\" class=\"dataframe\">\n",
       "  <thead>\n",
       "    <tr style=\"text-align: right;\">\n",
       "      <th></th>\n",
       "      <th>Employee Payroll</th>\n",
       "      <th>Unnamed: 1</th>\n",
       "      <th>Mr.Sluiter</th>\n",
       "      <th>Unnamed: 3</th>\n",
       "      <th>Unnamed: 4</th>\n",
       "      <th>Unnamed: 5</th>\n",
       "      <th>Unnamed: 6</th>\n",
       "      <th>Unnamed: 7</th>\n",
       "      <th>Unnamed: 8</th>\n",
       "      <th>Unnamed: 9</th>\n",
       "      <th>...</th>\n",
       "      <th>Unnamed: 20</th>\n",
       "      <th>Unnamed: 21</th>\n",
       "      <th>Unnamed: 22</th>\n",
       "      <th>Unnamed: 23</th>\n",
       "      <th>Unnamed: 24</th>\n",
       "      <th>Unnamed: 25</th>\n",
       "      <th>Unnamed: 26</th>\n",
       "      <th>Unnamed: 27</th>\n",
       "      <th>Unnamed: 28</th>\n",
       "      <th>Unnamed: 29</th>\n",
       "    </tr>\n",
       "  </thead>\n",
       "  <tbody>\n",
       "    <tr>\n",
       "      <th>0</th>\n",
       "      <td>NaN</td>\n",
       "      <td>NaN</td>\n",
       "      <td>NaN</td>\n",
       "      <td>Hours Worked</td>\n",
       "      <td>NaN</td>\n",
       "      <td>NaN</td>\n",
       "      <td>NaN</td>\n",
       "      <td>NaN</td>\n",
       "      <td>Over Time Hours</td>\n",
       "      <td>NaN</td>\n",
       "      <td>...</td>\n",
       "      <td>NaN</td>\n",
       "      <td>NaN</td>\n",
       "      <td>NaN</td>\n",
       "      <td>Total pay</td>\n",
       "      <td>NaN</td>\n",
       "      <td>NaN</td>\n",
       "      <td>NaN</td>\n",
       "      <td>NaN</td>\n",
       "      <td>NaN</td>\n",
       "      <td>Jan Pay</td>\n",
       "    </tr>\n",
       "    <tr>\n",
       "      <th>1</th>\n",
       "      <td>Last Name</td>\n",
       "      <td>First Name</td>\n",
       "      <td>Hourly Wage</td>\n",
       "      <td>2022-01-01 00:00:00</td>\n",
       "      <td>2022-01-08 00:00:00</td>\n",
       "      <td>2022-01-15 00:00:00</td>\n",
       "      <td>2022-01-22 00:00:00</td>\n",
       "      <td>2022-01-29 00:00:00</td>\n",
       "      <td>2022-01-01 00:00:00</td>\n",
       "      <td>2022-01-08 00:00:00</td>\n",
       "      <td>...</td>\n",
       "      <td>2022-01-15 00:00:00</td>\n",
       "      <td>2022-01-22 00:00:00</td>\n",
       "      <td>2022-01-29 00:00:00</td>\n",
       "      <td>2022-01-01 00:00:00</td>\n",
       "      <td>2022-01-08 00:00:00</td>\n",
       "      <td>2022-01-15 00:00:00</td>\n",
       "      <td>2022-01-22 00:00:00</td>\n",
       "      <td>2022-01-29 00:00:00</td>\n",
       "      <td>NaN</td>\n",
       "      <td>NaN</td>\n",
       "    </tr>\n",
       "    <tr>\n",
       "      <th>2</th>\n",
       "      <td>Kern</td>\n",
       "      <td>Jon'</td>\n",
       "      <td>15.9</td>\n",
       "      <td>41</td>\n",
       "      <td>42</td>\n",
       "      <td>39</td>\n",
       "      <td>30</td>\n",
       "      <td>46</td>\n",
       "      <td>1</td>\n",
       "      <td>2</td>\n",
       "      <td>...</td>\n",
       "      <td>0</td>\n",
       "      <td>0</td>\n",
       "      <td>47.7</td>\n",
       "      <td>659.85</td>\n",
       "      <td>683.7</td>\n",
       "      <td>620.1</td>\n",
       "      <td>477</td>\n",
       "      <td>779.1</td>\n",
       "      <td>NaN</td>\n",
       "      <td>3219.75</td>\n",
       "    </tr>\n",
       "    <tr>\n",
       "      <th>3</th>\n",
       "      <td>Howard</td>\n",
       "      <td>Glenda</td>\n",
       "      <td>10</td>\n",
       "      <td>42</td>\n",
       "      <td>41</td>\n",
       "      <td>40</td>\n",
       "      <td>38</td>\n",
       "      <td>44</td>\n",
       "      <td>2</td>\n",
       "      <td>1</td>\n",
       "      <td>...</td>\n",
       "      <td>0</td>\n",
       "      <td>0</td>\n",
       "      <td>20</td>\n",
       "      <td>430</td>\n",
       "      <td>415</td>\n",
       "      <td>400</td>\n",
       "      <td>380</td>\n",
       "      <td>460</td>\n",
       "      <td>NaN</td>\n",
       "      <td>2085</td>\n",
       "    </tr>\n",
       "    <tr>\n",
       "      <th>4</th>\n",
       "      <td>o Donald</td>\n",
       "      <td>Ron</td>\n",
       "      <td>22.1</td>\n",
       "      <td>49</td>\n",
       "      <td>40</td>\n",
       "      <td>33</td>\n",
       "      <td>20</td>\n",
       "      <td>18</td>\n",
       "      <td>9</td>\n",
       "      <td>0</td>\n",
       "      <td>...</td>\n",
       "      <td>0</td>\n",
       "      <td>0</td>\n",
       "      <td>0</td>\n",
       "      <td>1182.35</td>\n",
       "      <td>884</td>\n",
       "      <td>729.3</td>\n",
       "      <td>442</td>\n",
       "      <td>397.8</td>\n",
       "      <td>NaN</td>\n",
       "      <td>3635.45</td>\n",
       "    </tr>\n",
       "  </tbody>\n",
       "</table>\n",
       "<p>5 rows × 30 columns</p>\n",
       "</div>"
      ],
      "text/plain": [
       "  Employee Payroll  Unnamed: 1   Mr.Sluiter           Unnamed: 3  \\\n",
       "0              NaN         NaN          NaN         Hours Worked   \n",
       "1        Last Name  First Name  Hourly Wage  2022-01-01 00:00:00   \n",
       "2             Kern        Jon'         15.9                   41   \n",
       "3           Howard      Glenda           10                   42   \n",
       "4         o Donald         Ron         22.1                   49   \n",
       "\n",
       "            Unnamed: 4           Unnamed: 5           Unnamed: 6  \\\n",
       "0                  NaN                  NaN                  NaN   \n",
       "1  2022-01-08 00:00:00  2022-01-15 00:00:00  2022-01-22 00:00:00   \n",
       "2                   42                   39                   30   \n",
       "3                   41                   40                   38   \n",
       "4                   40                   33                   20   \n",
       "\n",
       "            Unnamed: 7           Unnamed: 8           Unnamed: 9  ...  \\\n",
       "0                  NaN      Over Time Hours                  NaN  ...   \n",
       "1  2022-01-29 00:00:00  2022-01-01 00:00:00  2022-01-08 00:00:00  ...   \n",
       "2                   46                    1                    2  ...   \n",
       "3                   44                    2                    1  ...   \n",
       "4                   18                    9                    0  ...   \n",
       "\n",
       "           Unnamed: 20          Unnamed: 21          Unnamed: 22  \\\n",
       "0                  NaN                  NaN                  NaN   \n",
       "1  2022-01-15 00:00:00  2022-01-22 00:00:00  2022-01-29 00:00:00   \n",
       "2                    0                    0                 47.7   \n",
       "3                    0                    0                   20   \n",
       "4                    0                    0                    0   \n",
       "\n",
       "           Unnamed: 23          Unnamed: 24          Unnamed: 25  \\\n",
       "0            Total pay                  NaN                  NaN   \n",
       "1  2022-01-01 00:00:00  2022-01-08 00:00:00  2022-01-15 00:00:00   \n",
       "2               659.85                683.7                620.1   \n",
       "3                  430                  415                  400   \n",
       "4              1182.35                  884                729.3   \n",
       "\n",
       "           Unnamed: 26          Unnamed: 27 Unnamed: 28 Unnamed: 29  \n",
       "0                  NaN                  NaN         NaN     Jan Pay  \n",
       "1  2022-01-22 00:00:00  2022-01-29 00:00:00         NaN         NaN  \n",
       "2                  477                779.1         NaN     3219.75  \n",
       "3                  380                  460         NaN        2085  \n",
       "4                  442                397.8         NaN     3635.45  \n",
       "\n",
       "[5 rows x 30 columns]"
      ]
     },
     "execution_count": 9,
     "metadata": {},
     "output_type": "execute_result"
    }
   ],
   "source": [
    "#Answer\n",
    "\n",
    "import pandas as pd\n",
    "# Read an Excel file into a DataFrame\n",
    "df = pd.read_excel('Employeepayroll.xlsx')\n",
    "\n",
    "# Display the first few rows of the DataFrame\n",
    "df.head()\n"
   ]
  },
  {
   "cell_type": "markdown",
   "id": "c195c9bd-aba6-49ad-a195-6b541eb54fb2",
   "metadata": {},
   "source": [
    "                        -------------------------------------------------------------------"
   ]
  },
  {
   "cell_type": "markdown",
   "id": "ee5e2313-f93a-4626-b512-f18ae3259acf",
   "metadata": {},
   "source": [
    "Q7. You have a Pandas DataFrame df that contains a column named 'Email' that contains email\n",
    "addresses in the format 'username@domain.com'. Write a Python function that creates a new column\n",
    "'Username' in df that contains only the username part of each email address.\n",
    "\n",
    "\n",
    "The username is the part of the email address that appears before the '@' symbol. For example, if the\n",
    "email address is 'john.doe@example.com', the 'Username' column should contain 'john.doe'. Your\n",
    "function should extract the username from each email address and store it in the new 'Username'\n",
    "column."
   ]
  },
  {
   "cell_type": "code",
   "execution_count": 10,
   "id": "4d25a2a1-5be7-4199-aea7-6cf2cb7225e4",
   "metadata": {},
   "outputs": [
    {
     "name": "stdout",
     "output_type": "stream",
     "text": [
      "                    Email    Username\n",
      "0    john.doe@example.com    john.doe\n",
      "1  sabreennaz@example.com  sabreennaz\n",
      "2       manya@example.com       manya\n"
     ]
    }
   ],
   "source": [
    "#Answer\n",
    "\n",
    "import pandas as pd\n",
    "\n",
    "# Sample DataFrame with 'Email' column\n",
    "\n",
    "data = {'Email': ['john.doe@example.com', 'sabreennaz@example.com', 'manya@example.com']}\n",
    "df = pd.DataFrame(data)\n",
    "\n",
    "# Function to extract the username from an email address\n",
    "\n",
    "def extract_username(email):\n",
    "    # Split the email address at the '@' symbol and return the first part\n",
    "    username = email.split('@')[0]\n",
    "    return username\n",
    "\n",
    "# Create a new 'Username' column using the extract_username function\n",
    "df['Username'] = df['Email'].apply(extract_username)\n",
    "\n",
    "# Print the DataFrame with the 'Username' column\n",
    "print(df)\n"
   ]
  },
  {
   "cell_type": "markdown",
   "id": "607a78ee-cd71-48f3-a046-f4a674a32922",
   "metadata": {},
   "source": [
    "                        -------------------------------------------------------------------"
   ]
  },
  {
   "cell_type": "markdown",
   "id": "f2c5cca0-9d6a-4639-9de6-2cc64967702a",
   "metadata": {},
   "source": [
    "Q8. You have a Pandas DataFrame df with columns 'A', 'B', and 'C'. Write a Python function that selects\n",
    "all rows where the value in column 'A' is greater than 5 and the value in column 'B' is less than 10. The\n",
    "function should return a new DataFrame that contains only the selected rows.\n",
    "\n",
    "\n",
    "For example, if df contains the following values:\n",
    "\n",
    "\n",
    "A B C\n",
    "0 3 5 1\n",
    "1 8 2 7\n",
    "2 6 9 4\n",
    "3 2 3 5\n",
    "4 9 1 2\n",
    "\n",
    "Your function should select the following rows: A B C\n",
    "\n",
    "\n",
    "1 8 2 7\n",
    "4 9 1 2\n",
    "\n",
    "The function should return a new DataFrame that contains only the selected rows."
   ]
  },
  {
   "cell_type": "code",
   "execution_count": 11,
   "id": "c49fcb86-8729-4cf8-8097-2e281ed1236d",
   "metadata": {},
   "outputs": [
    {
     "name": "stdout",
     "output_type": "stream",
     "text": [
      "   A  B  C\n",
      "1  8  2  7\n",
      "2  6  9  4\n",
      "4  9  1  2\n"
     ]
    }
   ],
   "source": [
    "#Answer\n",
    "\n",
    "import pandas as pd\n",
    "\n",
    "def select_rows(df):\n",
    "    selected_rows = df[(df['A']>5) & (df['B']<10)]\n",
    "    return selected_rows\n",
    "\n",
    "#Example usage:\n",
    "data = {'A':[3,8,6,2,9],\n",
    "        'B':[5,2,9,3,1],\n",
    "        'C':[1,7,4,5,2]\n",
    "                  }\n",
    "\n",
    "df = pd.DataFrame(data)\n",
    "\n",
    "\n",
    "selected_df = select_rows(df)\n",
    "print(selected_df)\n"
   ]
  },
  {
   "cell_type": "markdown",
   "id": "20771bf4-58b4-4c9b-8d99-0bb27e0216f5",
   "metadata": {},
   "source": [
    "                        -------------------------------------------------------------------"
   ]
  },
  {
   "cell_type": "markdown",
   "id": "cdc50a3c-c23a-438c-9db5-f76b908f0102",
   "metadata": {},
   "source": [
    "Q9. Given a Pandas DataFrame df with a column 'Values', write a Python function to calculate the mean,\n",
    "median, and standard deviation of the values in the 'Values' column."
   ]
  },
  {
   "cell_type": "code",
   "execution_count": 22,
   "id": "09ab2c60-bbc5-48ad-9bcc-0aeda78025b7",
   "metadata": {},
   "outputs": [
    {
     "name": "stdout",
     "output_type": "stream",
     "text": [
      "Mean: 6.0\n",
      "Median: 5.5\n",
      "Standard Deviation: 2.138089935299395\n"
     ]
    }
   ],
   "source": [
    "#Answer\n",
    "import pandas as pd\n",
    "\n",
    "def calculate_statistics(df, column_name):\n",
    "    # Extract the specified column from the DataFrame\n",
    "    column = df[column_name]\n",
    "    \n",
    "    # Calculate the mean, median, and standard deviation\n",
    "    mean_value = column.mean()\n",
    "    median_value = column.median()\n",
    "    std_deviation = column.std()\n",
    "    \n",
    "    return mean_value, median_value, std_deviation\n",
    "\n",
    "# Example usage:\n",
    "data = {'Values': [5, 8, 9, 5, 8, 3, 6, 4]}\n",
    "df = pd.DataFrame(data)\n",
    "\n",
    "mean, median, std = calculate_statistics(df, 'Values')\n",
    "\n",
    "print(f\"Mean: {mean}\")\n",
    "print(f\"Median: {median}\")\n",
    "print(f\"Standard Deviation: {std}\")\n",
    "\n",
    "\n",
    "\n",
    "\n"
   ]
  },
  {
   "cell_type": "markdown",
   "id": "c77ae91c-755c-4cbc-b5e5-748777a87405",
   "metadata": {},
   "source": [
    "                        -------------------------------------------------------------------"
   ]
  },
  {
   "cell_type": "markdown",
   "id": "3fe1680f-c813-45e2-9d34-9d04e829bf48",
   "metadata": {},
   "source": [
    "Q10. Given a Pandas DataFrame df with a column 'Sales' and a column 'Date', write a Python function to\n",
    "create a new column 'MovingAverage' that contains the moving average of the sales for the past 7 days\n",
    "for each row in the DataFrame. The moving average should be calculated using a window of size 7 and\n",
    "should include the current day."
   ]
  },
  {
   "cell_type": "code",
   "execution_count": 23,
   "id": "57c997a8-f6b4-43a6-bd85-0db8f5175c9f",
   "metadata": {},
   "outputs": [
    {
     "name": "stdout",
     "output_type": "stream",
     "text": [
      "        Date  Sales  MovingAverage\n",
      "0 2023-10-01     10           10.0\n",
      "1 2023-10-02     15           12.5\n",
      "2 2023-10-03     20           15.0\n",
      "3 2023-10-04     25           17.5\n",
      "4 2023-10-05     30           20.0\n",
      "5 2023-10-06     35           22.5\n",
      "6 2023-10-07     40           25.0\n"
     ]
    }
   ],
   "source": [
    "#Answer\n",
    "\n",
    "import pandas as pd\n",
    "\n",
    "def calculate_moving_average(df, window_size=7):\n",
    "    # Sort the DataFrame by the 'Date' column\n",
    "    df['Date'] = pd.to_datetime(df['Date'])\n",
    "    df = df.sort_values(by='Date')\n",
    "    \n",
    "    # Calculate the moving average with a window of size 'window_size'\n",
    "    df['MovingAverage'] = df['Sales'].rolling(window=window_size, min_periods=1).mean()\n",
    "    \n",
    "    return df\n",
    "\n",
    "# Example usage:\n",
    "data = {'Date': ['2023-10-01', '2023-10-02', '2023-10-03', '2023-10-04', '2023-10-05', '2023-10-06', '2023-10-07'],\n",
    "        'Sales': [10, 15, 20, 25, 30, 35, 40]}\n",
    "\n",
    "df = pd.DataFrame(data)\n",
    "\n",
    "# Calculate the moving average\n",
    "df = calculate_moving_average(df)\n",
    "\n",
    "print(df)\n"
   ]
  },
  {
   "cell_type": "markdown",
   "id": "c2f35306-01a7-4de8-be93-806317db386b",
   "metadata": {},
   "source": [
    "                        -------------------------------------------------------------------"
   ]
  },
  {
   "cell_type": "markdown",
   "id": "a3700dfe-98f9-4351-9f36-d52d91455802",
   "metadata": {},
   "source": [
    "Q11. You have a Pandas DataFrame df with a column 'Date'. Write a Python function that creates a new\n",
    "column 'Weekday' in the DataFrame. The 'Weekday' column should contain the weekday name (e.g.\n",
    "Monday, Tuesday) corresponding to each date in the 'Date' column.\n",
    "\n",
    "For example, if df contains the following values:\n",
    "    \n",
    "Date\n",
    "\n",
    " 0      2023-01-01\n",
    " 1      2023-01-02\n",
    " 2      2023-01-03\n",
    " 3      2023-01-04\n",
    " 4      2023-01-05\n",
    "\n",
    "Your function should create the following DataFrame:\n",
    "    \n",
    "    \n",
    "       Date             Weekday\n",
    "\n",
    "0    2023-01-01         Sunday\n",
    "1    2023-01-02         Monday\n",
    "2    2023-01-03         Tuesday\n",
    "3    2023-01-04         Wednesday\n",
    "4    2023-01-05         Thursday\n",
    "\n",
    "The function should return the modified DataFrame."
   ]
  },
  {
   "cell_type": "code",
   "execution_count": 24,
   "id": "71c6e0bf-1a97-4741-bfc0-012f77cf2c1b",
   "metadata": {},
   "outputs": [
    {
     "name": "stdout",
     "output_type": "stream",
     "text": [
      "        Date    Weekday\n",
      "0 2023-01-01     Sunday\n",
      "1 2023-01-02     Monday\n",
      "2 2023-01-03    Tuesday\n",
      "3 2023-01-04  Wednesday\n",
      "4 2023-01-05   Thursday\n"
     ]
    }
   ],
   "source": [
    "#Answer\n",
    "\n",
    "import pandas as pd\n",
    "\n",
    "def add_weekday_column(df, date_column_name='Date', new_column_name='Weekday'):\n",
    "    # Ensure the 'Date' column is in datetime format\n",
    "    df[date_column_name] = pd.to_datetime(df[date_column_name])\n",
    "    \n",
    "    # Create the 'Weekday' column with weekday names\n",
    "    df[new_column_name] = df[date_column_name].dt.strftime('%A')\n",
    "    \n",
    "    return df\n",
    "\n",
    "# Example usage:\n",
    "data = {'Date': ['2023-01-01', '2023-01-02', '2023-01-03', '2023-01-04', '2023-01-05']}\n",
    "df = pd.DataFrame(data)\n",
    "\n",
    "# Add the 'Weekday' column\n",
    "df = add_weekday_column(df)\n",
    "\n",
    "print(df)\n"
   ]
  },
  {
   "cell_type": "markdown",
   "id": "5e1943ab-218e-4117-b468-c1467749907a",
   "metadata": {},
   "source": [
    "                        -------------------------------------------------------------------"
   ]
  },
  {
   "cell_type": "markdown",
   "id": "5ca4aa62-d696-48b9-a8d4-3bfaf277b43b",
   "metadata": {},
   "source": [
    "Q12. Given a Pandas DataFrame df with a column 'Date' that contains timestamps, write a Python\n",
    "function to select all rows where the date is between '2023-01-01' and '2023-01-31'."
   ]
  },
  {
   "cell_type": "code",
   "execution_count": 25,
   "id": "0ebf5628-f946-4383-8ce2-b81a5515ea99",
   "metadata": {},
   "outputs": [
    {
     "name": "stdout",
     "output_type": "stream",
     "text": [
      "        Date\n",
      "0 2023-01-01\n",
      "1 2023-01-15\n",
      "3 2023-01-20\n"
     ]
    }
   ],
   "source": [
    "#Answer\n",
    "\n",
    "import pandas as pd\n",
    "\n",
    "def select_rows_between_dates(df, start_date, end_date, date_column_name='Date'):\n",
    "    # Ensure the date column is in datetime format\n",
    "    df[date_column_name] = pd.to_datetime(df[date_column_name])\n",
    "    \n",
    "    # Create a boolean mask for the date range\n",
    "    mask = (df[date_column_name] >= start_date) & (df[date_column_name] <= end_date)\n",
    "    \n",
    "    # Use the mask to select the rows within the date range\n",
    "    selected_rows = df[mask]\n",
    "    \n",
    "    return selected_rows\n",
    "\n",
    "# Example usage:\n",
    "data = {'Date': ['2023-01-01', '2023-01-15', '2023-02-05', '2023-01-20', '2023-03-10']}\n",
    "df = pd.DataFrame(data)\n",
    "\n",
    "start_date = '2023-01-01'\n",
    "end_date = '2023-01-31'\n",
    "\n",
    "# Select rows between '2023-01-01' and '2023-01-31'\n",
    "selected_df = select_rows_between_dates(df, start_date, end_date)\n",
    "\n",
    "print(selected_df)\n"
   ]
  },
  {
   "cell_type": "markdown",
   "id": "ab2c1415-3855-46f4-aff9-11d4b336c26b",
   "metadata": {},
   "source": [
    "                        -------------------------------------------------------------------"
   ]
  },
  {
   "cell_type": "markdown",
   "id": "b32200be-c9a3-4891-97a7-1c357ddd8452",
   "metadata": {},
   "source": [
    "Q13. To use the basic functions of pandas, what is the first and foremost necessary library that needs to\n",
    "be imported?"
   ]
  },
  {
   "cell_type": "markdown",
   "id": "10a77028-167a-4067-a435-316f2391d71e",
   "metadata": {},
   "source": [
    "#Answer\n",
    "\n",
    "To use the basic functions of Pandas, the first and foremost library that we need to import is, of course, the Pandas library itself. we can import Pandas with the following line of code:\n",
    "\n",
    "\"import pandas as pd\"\n",
    "\n",
    "This line imports the Pandas library and assigns it the alias 'pd,' which is a common convention used by the Pandas community. This alias allows us to refer to Pandas functions and objects more conveniently, such as using pd.DataFrame to create a DataFrame or pd.Series to create a Series."
   ]
  },
  {
   "cell_type": "markdown",
   "id": "c0a26934-f452-4013-99f1-1abae4d73a96",
   "metadata": {},
   "source": [
    "                        -------------------------------------------------------------------"
   ]
  }
 ],
 "metadata": {
  "kernelspec": {
   "display_name": "Python 3 (ipykernel)",
   "language": "python",
   "name": "python3"
  },
  "language_info": {
   "codemirror_mode": {
    "name": "ipython",
    "version": 3
   },
   "file_extension": ".py",
   "mimetype": "text/x-python",
   "name": "python",
   "nbconvert_exporter": "python",
   "pygments_lexer": "ipython3",
   "version": "3.10.8"
  }
 },
 "nbformat": 4,
 "nbformat_minor": 5
}
